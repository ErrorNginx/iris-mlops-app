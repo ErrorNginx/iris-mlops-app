{
 "cells": [
  {
   "cell_type": "code",
   "execution_count": null,
   "metadata": {},
   "outputs": [],
   "source": [
    "# Contoh konten untuk eksplorasi data\n",
    "import pandas as pd\n",
    "import matplotlib.pyplot as plt\n",
    "import seaborn as sns\n",
    "\n",
    "# Memuat data\n",
    "data = pd.read_csv('../data/raw/iris.csv')\n",
    "\n",
    "# Eksplorasi data\n",
    "print(data.head())\n",
    "print(data.describe())\n",
    "\n",
    "# Visualisasi data\n",
    "sns.pairplot(data, hue='species')\n",
    "plt.show()\n"
   ]
  }
 ],
 "metadata": {
  "language_info": {
   "name": "python"
  }
 },
 "nbformat": 4,
 "nbformat_minor": 2
}
